{
 "cells": [
  {
   "cell_type": "code",
   "execution_count": 1,
   "metadata": {},
   "outputs": [],
   "source": [
    "import pandas as pd\n",
    "import numpy as np\n",
    "\n",
    "from sklearn.cluster import KMeans\n",
    "from sklearn.preprocessing import StandardScaler\n",
    "\n",
    "import matplotlib.pyplot as plt\n",
    "import seaborn as sns\n",
    "sns.set_style(style='whitegrid')"
   ]
  },
  {
   "cell_type": "markdown",
   "metadata": {},
   "source": [
    "# Importación de datos"
   ]
  },
  {
   "cell_type": "code",
   "execution_count": 2,
   "metadata": {},
   "outputs": [],
   "source": [
    "df_data = pd.read_csv('../../data/final/data.csv', index_col=0)"
   ]
  },
  {
   "cell_type": "code",
   "execution_count": 3,
   "metadata": {},
   "outputs": [
    {
     "data": {
      "text/html": [
       "<div>\n",
       "<style scoped>\n",
       "    .dataframe tbody tr th:only-of-type {\n",
       "        vertical-align: middle;\n",
       "    }\n",
       "\n",
       "    .dataframe tbody tr th {\n",
       "        vertical-align: top;\n",
       "    }\n",
       "\n",
       "    .dataframe thead th {\n",
       "        text-align: right;\n",
       "    }\n",
       "</style>\n",
       "<table border=\"1\" class=\"dataframe\">\n",
       "  <thead>\n",
       "    <tr style=\"text-align: right;\">\n",
       "      <th></th>\n",
       "      <th>Country Name</th>\n",
       "      <th>1995_death</th>\n",
       "      <th>1996_death</th>\n",
       "      <th>1997_death</th>\n",
       "      <th>1998_death</th>\n",
       "      <th>1999_death</th>\n",
       "      <th>2000_death</th>\n",
       "      <th>2001_death</th>\n",
       "      <th>2002_death</th>\n",
       "      <th>2003_death</th>\n",
       "      <th>...</th>\n",
       "      <th>2008_pib</th>\n",
       "      <th>2009_pib</th>\n",
       "      <th>2010_pib</th>\n",
       "      <th>2011_pib</th>\n",
       "      <th>2012_pib</th>\n",
       "      <th>2013_pib</th>\n",
       "      <th>2014_pib</th>\n",
       "      <th>2015_pib</th>\n",
       "      <th>2016_pib</th>\n",
       "      <th>2017_pib</th>\n",
       "    </tr>\n",
       "  </thead>\n",
       "  <tbody>\n",
       "    <tr>\n",
       "      <th>0</th>\n",
       "      <td>Argentina</td>\n",
       "      <td>663472</td>\n",
       "      <td>664675</td>\n",
       "      <td>541820</td>\n",
       "      <td>560360</td>\n",
       "      <td>579086</td>\n",
       "      <td>554296</td>\n",
       "      <td>571882</td>\n",
       "      <td>582380</td>\n",
       "      <td>603740</td>\n",
       "      <td>...</td>\n",
       "      <td>3.615580e+11</td>\n",
       "      <td>3.329765e+11</td>\n",
       "      <td>4.236274e+11</td>\n",
       "      <td>5.301633e+11</td>\n",
       "      <td>5.459824e+11</td>\n",
       "      <td>5.520251e+11</td>\n",
       "      <td>5.263197e+11</td>\n",
       "      <td>5.947493e+11</td>\n",
       "      <td>5.575314e+11</td>\n",
       "      <td>6.436287e+11</td>\n",
       "    </tr>\n",
       "    <tr>\n",
       "      <th>1</th>\n",
       "      <td>Brazil</td>\n",
       "      <td>4427790</td>\n",
       "      <td>3635528</td>\n",
       "      <td>3614064</td>\n",
       "      <td>3716092</td>\n",
       "      <td>3754632</td>\n",
       "      <td>3785564</td>\n",
       "      <td>3845928</td>\n",
       "      <td>3931176</td>\n",
       "      <td>2004624</td>\n",
       "      <td>...</td>\n",
       "      <td>1.695825e+12</td>\n",
       "      <td>1.667020e+12</td>\n",
       "      <td>2.208872e+12</td>\n",
       "      <td>2.616201e+12</td>\n",
       "      <td>2.465189e+12</td>\n",
       "      <td>2.472807e+12</td>\n",
       "      <td>2.455994e+12</td>\n",
       "      <td>1.802214e+12</td>\n",
       "      <td>1.795700e+12</td>\n",
       "      <td>2.062831e+12</td>\n",
       "    </tr>\n",
       "    <tr>\n",
       "      <th>2</th>\n",
       "      <td>Brunei Darussalam</td>\n",
       "      <td>2796</td>\n",
       "      <td>2525</td>\n",
       "      <td>2697</td>\n",
       "      <td>2582</td>\n",
       "      <td>2766</td>\n",
       "      <td>2895</td>\n",
       "      <td>2991</td>\n",
       "      <td>2898</td>\n",
       "      <td>2901</td>\n",
       "      <td>...</td>\n",
       "      <td>1.439310e+10</td>\n",
       "      <td>1.073237e+10</td>\n",
       "      <td>1.370737e+10</td>\n",
       "      <td>1.852532e+10</td>\n",
       "      <td>1.904794e+10</td>\n",
       "      <td>1.809383e+10</td>\n",
       "      <td>1.709834e+10</td>\n",
       "      <td>1.293039e+10</td>\n",
       "      <td>1.140085e+10</td>\n",
       "      <td>1.212810e+10</td>\n",
       "    </tr>\n",
       "    <tr>\n",
       "      <th>3</th>\n",
       "      <td>Canada</td>\n",
       "      <td>653537</td>\n",
       "      <td>660572</td>\n",
       "      <td>669303</td>\n",
       "      <td>677740</td>\n",
       "      <td>681742</td>\n",
       "      <td>436124</td>\n",
       "      <td>439076</td>\n",
       "      <td>447206</td>\n",
       "      <td>452338</td>\n",
       "      <td>...</td>\n",
       "      <td>1.549131e+12</td>\n",
       "      <td>1.371153e+12</td>\n",
       "      <td>1.613464e+12</td>\n",
       "      <td>1.788648e+12</td>\n",
       "      <td>1.828689e+12</td>\n",
       "      <td>1.847209e+12</td>\n",
       "      <td>1.803533e+12</td>\n",
       "      <td>1.556130e+12</td>\n",
       "      <td>1.528243e+12</td>\n",
       "      <td>1.649878e+12</td>\n",
       "    </tr>\n",
       "    <tr>\n",
       "      <th>4</th>\n",
       "      <td>Colombia</td>\n",
       "      <td>427210</td>\n",
       "      <td>437252</td>\n",
       "      <td>341064</td>\n",
       "      <td>350726</td>\n",
       "      <td>367106</td>\n",
       "      <td>374552</td>\n",
       "      <td>382744</td>\n",
       "      <td>384148</td>\n",
       "      <td>379600</td>\n",
       "      <td>...</td>\n",
       "      <td>2.421870e+11</td>\n",
       "      <td>2.323978e+11</td>\n",
       "      <td>2.865631e+11</td>\n",
       "      <td>3.349439e+11</td>\n",
       "      <td>3.709213e+11</td>\n",
       "      <td>3.821161e+11</td>\n",
       "      <td>3.811121e+11</td>\n",
       "      <td>2.934817e+11</td>\n",
       "      <td>2.828250e+11</td>\n",
       "      <td>3.118837e+11</td>\n",
       "    </tr>\n",
       "  </tbody>\n",
       "</table>\n",
       "<p>5 rows × 71 columns</p>\n",
       "</div>"
      ],
      "text/plain": [
       "        Country Name  1995_death  1996_death  1997_death  1998_death  \\\n",
       "0          Argentina      663472      664675      541820      560360   \n",
       "1             Brazil     4427790     3635528     3614064     3716092   \n",
       "2  Brunei Darussalam        2796        2525        2697        2582   \n",
       "3             Canada      653537      660572      669303      677740   \n",
       "4           Colombia      427210      437252      341064      350726   \n",
       "\n",
       "   1999_death  2000_death  2001_death  2002_death  2003_death  ...  \\\n",
       "0      579086      554296      571882      582380      603740  ...   \n",
       "1     3754632     3785564     3845928     3931176     2004624  ...   \n",
       "2        2766        2895        2991        2898        2901  ...   \n",
       "3      681742      436124      439076      447206      452338  ...   \n",
       "4      367106      374552      382744      384148      379600  ...   \n",
       "\n",
       "       2008_pib      2009_pib      2010_pib      2011_pib      2012_pib  \\\n",
       "0  3.615580e+11  3.329765e+11  4.236274e+11  5.301633e+11  5.459824e+11   \n",
       "1  1.695825e+12  1.667020e+12  2.208872e+12  2.616201e+12  2.465189e+12   \n",
       "2  1.439310e+10  1.073237e+10  1.370737e+10  1.852532e+10  1.904794e+10   \n",
       "3  1.549131e+12  1.371153e+12  1.613464e+12  1.788648e+12  1.828689e+12   \n",
       "4  2.421870e+11  2.323978e+11  2.865631e+11  3.349439e+11  3.709213e+11   \n",
       "\n",
       "       2013_pib      2014_pib      2015_pib      2016_pib      2017_pib  \n",
       "0  5.520251e+11  5.263197e+11  5.947493e+11  5.575314e+11  6.436287e+11  \n",
       "1  2.472807e+12  2.455994e+12  1.802214e+12  1.795700e+12  2.062831e+12  \n",
       "2  1.809383e+10  1.709834e+10  1.293039e+10  1.140085e+10  1.212810e+10  \n",
       "3  1.847209e+12  1.803533e+12  1.556130e+12  1.528243e+12  1.649878e+12  \n",
       "4  3.821161e+11  3.811121e+11  2.934817e+11  2.828250e+11  3.118837e+11  \n",
       "\n",
       "[5 rows x 71 columns]"
      ]
     },
     "execution_count": 3,
     "metadata": {},
     "output_type": "execute_result"
    }
   ],
   "source": [
    "df_data.head()"
   ]
  },
  {
   "cell_type": "code",
   "execution_count": 4,
   "metadata": {},
   "outputs": [
    {
     "data": {
      "text/plain": [
       "(20, 71)"
      ]
     },
     "execution_count": 4,
     "metadata": {},
     "output_type": "execute_result"
    }
   ],
   "source": [
    "df_data.shape"
   ]
  },
  {
   "cell_type": "markdown",
   "metadata": {},
   "source": [
    "# Implementación de K-Means"
   ]
  },
  {
   "cell_type": "code",
   "execution_count": 5,
   "metadata": {},
   "outputs": [],
   "source": [
    "# Extraemos las columnas que queremos utilizar para realizar el clustering\n",
    "data_to_cluster = df_data.loc[:, df_data.columns[1:]].values\n",
    "\n",
    "# Normalización los datos\n",
    "scaler = StandardScaler()\n",
    "cluster_data = scaler.fit_transform(data_to_cluster)"
   ]
  },
  {
   "cell_type": "markdown",
   "metadata": {},
   "source": [
    "### Método del codo para obtener la mejor k"
   ]
  },
  {
   "cell_type": "code",
   "execution_count": 6,
   "metadata": {},
   "outputs": [],
   "source": [
    "inertia = []\n",
    "for i in range(1, 20):\n",
    "    kmeans = KMeans(n_clusters = i, init = 'k-means++', random_state = 42)\n",
    "    kmeans.fit(cluster_data)\n",
    "    \n",
    "    inertia.append(kmeans.inertia_)"
   ]
  },
  {
   "cell_type": "code",
   "execution_count": 7,
   "metadata": {},
   "outputs": [
    {
     "data": {
      "image/png": "[encoded data removed]",
      "text/plain": [
       "<Figure size 720x360 with 1 Axes>"
      ]
     },
     "metadata": {},
     "output_type": "display_data"
    }
   ],
   "source": [
    "plt.figure(figsize=(10,5))\n",
    "sns.lineplot(range(1, len(inertia)+1), inertia, marker='o', color='red')\n",
    "plt.title('The Elbow Method')\n",
    "plt.xlabel('Number of clusters')\n",
    "plt.ylabel('inertia')\n",
    "plt.show()"
   ]
  },
  {
   "cell_type": "code",
   "execution_count": 8,
   "metadata": {},
   "outputs": [],
   "source": [
    "# Creación del modelo con la mejor k obtenida\n",
    "kmeans = KMeans(n_clusters = 3, init = 'k-means++', random_state = 42)\n",
    "y_kmeans = kmeans.fit_predict(cluster_data)"
   ]
  },
  {
   "cell_type": "code",
   "execution_count": 9,
   "metadata": {},
   "outputs": [],
   "source": [
    "# Añadimos el nombre del país a cada registro y el cluster en el que se ha incluido\n",
    "df_data['cluster'] = y_kmeans\n",
    "df_data['country_name'] = df_data['Country Name']"
   ]
  },
  {
   "cell_type": "code",
   "execution_count": 10,
   "metadata": {},
   "outputs": [
    {
     "name": "stdout",
     "output_type": "stream",
     "text": [
      "Cluster 1\n",
      " - Argentina\n",
      " - Brunei Darussalam\n",
      " - Canada\n",
      " - Colombia\n",
      " - Croatia\n",
      " - Ecuador\n",
      " - Finland\n",
      " - Hungary\n",
      " - Israel\n",
      " - Kuwait\n",
      " - Nicaragua\n",
      " - Singapore\n",
      " - Slovenia\n",
      " - Spain\n",
      " - Sweden\n",
      "Cluster 2\n",
      " - United States of America\n",
      "Cluster 3\n",
      " - Brazil\n",
      " - Germany\n",
      " - Japan\n",
      " - Mexico\n"
     ]
    }
   ],
   "source": [
    "# Mostramos cada uno de los clusters con los países asociados\n",
    "for cluster in range(3):\n",
    "    country_names = df_data[df_data['cluster'] == cluster]['country_name'].values\n",
    "    \n",
    "    print('Cluster ' + str(cluster+1))\n",
    "    for country in country_names:\n",
    "        print(' - ' + country)"
   ]
  }
 ],
 "metadata": {
  "kernelspec": {
   "display_name": "Python 3",
   "language": "python",
   "name": "python3"
  },
  "language_info": {
   "codemirror_mode": {
    "name": "ipython",
    "version": 3
   },
   "file_extension": ".py",
   "mimetype": "text/x-python",
   "name": "python",
   "nbconvert_exporter": "python",
   "pygments_lexer": "ipython3",
   "version": "3.7.9"
  }
 },
 "nbformat": 4,
 "nbformat_minor": 4
}

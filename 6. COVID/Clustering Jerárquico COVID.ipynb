{
 "cells": [
  {
   "cell_type": "markdown",
   "metadata": {},
   "source": [
    "# Clustering Jerárquico - Covid 2020"
   ]
  },
  {
   "cell_type": "markdown",
   "metadata": {},
   "source": [
    "## Librerías y Carga del Dataset\n"
   ]
  },
  {
   "cell_type": "code",
   "execution_count": 1,
   "metadata": {},
   "outputs": [],
   "source": [
    "import pandas as pd\n",
    "import numpy as np\n",
    "import matplotlib.pyplot as plt\n",
    "\n",
    "from sklearn.cluster import AgglomerativeClustering\n",
    "from sklearn import preprocessing\n",
    "from scipy.cluster.hierarchy import dendrogram, linkage, cophenet\n",
    "from scipy.spatial.distance import pdist"
   ]
  },
  {
   "cell_type": "markdown",
   "metadata": {},
   "source": [
    "## Objetivo"
   ]
  },
  {
   "cell_type": "markdown",
   "metadata": {},
   "source": [
    "El objetivo de este análisis jerárquico es entender el dataset de muertes por covid en 2020 en relación al ratio de mortalidad del covid con el PIB de cada país y detectar si el tipo de sanidad (pública o privada) se ve reflejado en esta clasificación. Para ello se verá si existe alguna agrupación entre países con características similares."
   ]
  },
  {
   "cell_type": "markdown",
   "metadata": {},
   "source": [
    "## Visualización y preprocesamiento de los datos"
   ]
  },
  {
   "cell_type": "markdown",
   "metadata": {},
   "source": [
    "### Visualización"
   ]
  },
  {
   "cell_type": "markdown",
   "metadata": {},
   "source": [
    "En primer lugar, mostramos las 5 primeras filas del dataframe covid para visualizar y entender mejor los datos.\n",
    "\n",
    "- Contamos con 5 columnas, una correspondiente al ID, otra especificando el país en concreto, otra con las muertes totales en 2020, otra con la población de dicho país y por último el PIB del país en cuestión. Realizaremos el clustering para 20 países distintos."
   ]
  },
  {
   "cell_type": "code",
   "execution_count": 2,
   "metadata": {},
   "outputs": [
    {
     "data": {
      "text/html": [
       "<div>\n",
       "<style scoped>\n",
       "    .dataframe tbody tr th:only-of-type {\n",
       "        vertical-align: middle;\n",
       "    }\n",
       "\n",
       "    .dataframe tbody tr th {\n",
       "        vertical-align: top;\n",
       "    }\n",
       "\n",
       "    .dataframe thead th {\n",
       "        text-align: right;\n",
       "    }\n",
       "</style>\n",
       "<table border=\"1\" class=\"dataframe\">\n",
       "  <thead>\n",
       "    <tr style=\"text-align: right;\">\n",
       "      <th></th>\n",
       "      <th>Unnamed: 0</th>\n",
       "      <th>Country</th>\n",
       "      <th>Covid_Deaths_2020</th>\n",
       "      <th>poblacion</th>\n",
       "      <th>pib</th>\n",
       "    </tr>\n",
       "  </thead>\n",
       "  <tbody>\n",
       "    <tr>\n",
       "      <th>0</th>\n",
       "      <td>0</td>\n",
       "      <td>Argentina</td>\n",
       "      <td>43245</td>\n",
       "      <td>44044811</td>\n",
       "      <td>6.436287e+11</td>\n",
       "    </tr>\n",
       "    <tr>\n",
       "      <th>1</th>\n",
       "      <td>1</td>\n",
       "      <td>Brazil</td>\n",
       "      <td>194949</td>\n",
       "      <td>207833831</td>\n",
       "      <td>2.062831e+12</td>\n",
       "    </tr>\n",
       "    <tr>\n",
       "      <th>2</th>\n",
       "      <td>2</td>\n",
       "      <td>Brunei Darussalam</td>\n",
       "      <td>3</td>\n",
       "      <td>424473</td>\n",
       "      <td>1.212810e+10</td>\n",
       "    </tr>\n",
       "    <tr>\n",
       "      <th>3</th>\n",
       "      <td>3</td>\n",
       "      <td>Canada</td>\n",
       "      <td>15632</td>\n",
       "      <td>36543321</td>\n",
       "      <td>1.649878e+12</td>\n",
       "    </tr>\n",
       "    <tr>\n",
       "      <th>4</th>\n",
       "      <td>4</td>\n",
       "      <td>Colombia</td>\n",
       "      <td>43213</td>\n",
       "      <td>48909844</td>\n",
       "      <td>3.118837e+11</td>\n",
       "    </tr>\n",
       "  </tbody>\n",
       "</table>\n",
       "</div>"
      ],
      "text/plain": [
       "   Unnamed: 0            Country  Covid_Deaths_2020  poblacion           pib\n",
       "0           0          Argentina              43245   44044811  6.436287e+11\n",
       "1           1             Brazil             194949  207833831  2.062831e+12\n",
       "2           2  Brunei Darussalam                  3     424473  1.212810e+10\n",
       "3           3             Canada              15632   36543321  1.649878e+12\n",
       "4           4           Colombia              43213   48909844  3.118837e+11"
      ]
     },
     "metadata": {},
     "output_type": "display_data"
    }
   ],
   "source": [
    "df = pd.read_csv('../data/final/covid_final.csv')\n",
    "df_sanidad = pd.read_csv('../data/clean/sanidad.csv')\n",
    "display(df.head(5))\n"
   ]
  },
  {
   "cell_type": "markdown",
   "metadata": {},
   "source": [
    "En segundo lugar, mostramos las 5 primeras filas del dataframe sanidad para visualizar y entender mejor los datos.\n",
    "\n",
    "- Contamos con 2 columnas, una correspondiente al nombre del país y la otra correspondiente a si tiene sanidad pública (1) o privada (0)."
   ]
  },
  {
   "cell_type": "markdown",
   "metadata": {},
   "source": [
    "### Integridad de los datos"
   ]
  },
  {
   "cell_type": "code",
   "execution_count": 3,
   "metadata": {},
   "outputs": [
    {
     "data": {
      "text/html": [
       "<div>\n",
       "<style scoped>\n",
       "    .dataframe tbody tr th:only-of-type {\n",
       "        vertical-align: middle;\n",
       "    }\n",
       "\n",
       "    .dataframe tbody tr th {\n",
       "        vertical-align: top;\n",
       "    }\n",
       "\n",
       "    .dataframe thead th {\n",
       "        text-align: right;\n",
       "    }\n",
       "</style>\n",
       "<table border=\"1\" class=\"dataframe\">\n",
       "  <thead>\n",
       "    <tr style=\"text-align: right;\">\n",
       "      <th></th>\n",
       "      <th>Country Name</th>\n",
       "      <th>Sanidad</th>\n",
       "    </tr>\n",
       "  </thead>\n",
       "  <tbody>\n",
       "    <tr>\n",
       "      <th>0</th>\n",
       "      <td>Argentina</td>\n",
       "      <td>0</td>\n",
       "    </tr>\n",
       "    <tr>\n",
       "      <th>1</th>\n",
       "      <td>Brazil</td>\n",
       "      <td>0</td>\n",
       "    </tr>\n",
       "    <tr>\n",
       "      <th>2</th>\n",
       "      <td>Brunei Darussalam</td>\n",
       "      <td>1</td>\n",
       "    </tr>\n",
       "    <tr>\n",
       "      <th>3</th>\n",
       "      <td>Canada</td>\n",
       "      <td>1</td>\n",
       "    </tr>\n",
       "    <tr>\n",
       "      <th>4</th>\n",
       "      <td>Colombia</td>\n",
       "      <td>0</td>\n",
       "    </tr>\n",
       "  </tbody>\n",
       "</table>\n",
       "</div>"
      ],
      "text/plain": [
       "        Country Name  Sanidad\n",
       "0          Argentina        0\n",
       "1             Brazil        0\n",
       "2  Brunei Darussalam        1\n",
       "3             Canada        1\n",
       "4           Colombia        0"
      ]
     },
     "metadata": {},
     "output_type": "display_data"
    }
   ],
   "source": [
    "display(df_sanidad.head(5))"
   ]
  },
  {
   "cell_type": "markdown",
   "metadata": {},
   "source": [
    "Vemos si hay datos nulos, o inconsistentes."
   ]
  },
  {
   "cell_type": "code",
   "execution_count": 4,
   "metadata": {},
   "outputs": [
    {
     "data": {
      "text/plain": [
       "Unnamed: 0           0\n",
       "Country              0\n",
       "Covid_Deaths_2020    0\n",
       "poblacion            0\n",
       "pib                  0\n",
       "dtype: int64"
      ]
     },
     "execution_count": 4,
     "metadata": {},
     "output_type": "execute_result"
    }
   ],
   "source": [
    "df.isna().sum()"
   ]
  },
  {
   "cell_type": "code",
   "execution_count": 5,
   "metadata": {},
   "outputs": [
    {
     "data": {
      "text/plain": [
       "Country Name    0\n",
       "Sanidad         0\n",
       "dtype: int64"
      ]
     },
     "execution_count": 5,
     "metadata": {},
     "output_type": "execute_result"
    }
   ],
   "source": [
    "df_sanidad.isna().sum()"
   ]
  },
  {
   "cell_type": "markdown",
   "metadata": {},
   "source": [
    "### Eliminamos columnas innecesarias."
   ]
  },
  {
   "cell_type": "markdown",
   "metadata": {},
   "source": [
    "Eliminamos la columna del ID ya que no aporta ningún valor al estudio."
   ]
  },
  {
   "cell_type": "code",
   "execution_count": 6,
   "metadata": {},
   "outputs": [],
   "source": [
    "df = df.drop('Unnamed: 0', axis = 1)"
   ]
  },
  {
   "cell_type": "markdown",
   "metadata": {},
   "source": [
    "### Creamos columnas necesarias"
   ]
  },
  {
   "cell_type": "markdown",
   "metadata": {},
   "source": [
    "#### PIB per capita"
   ]
  },
  {
   "cell_type": "markdown",
   "metadata": {},
   "source": [
    "Sustituimos la columna \"PIB\" por una columna pib_per_capita que representa el PIB per capita en relación a la población de un país."
   ]
  },
  {
   "cell_type": "code",
   "execution_count": 7,
   "metadata": {},
   "outputs": [],
   "source": [
    "df['pib'] = df['pib']/df['poblacion']\n",
    "df = df.rename(columns={\"pib\": \"pib_per_capita\"})"
   ]
  },
  {
   "cell_type": "markdown",
   "metadata": {},
   "source": [
    "#### Muertes por covid por 100.000 habitantes"
   ]
  },
  {
   "cell_type": "markdown",
   "metadata": {},
   "source": [
    "Sustituimos las columnas \"Covid_Deaths_2020\" y \"poblacion\" por una columna covid_ratio_deaths que representa las muertes de ese país por 100.000 habitantes."
   ]
  },
  {
   "cell_type": "code",
   "execution_count": 8,
   "metadata": {},
   "outputs": [],
   "source": [
    "#Con un regla de tres obtenmos el ratio de muertes por 100.000 habitantes: x/100.000 = muertes_covid_2020/poblacion\n",
    "df['covid_ratio_deaths'] = df['Covid_Deaths_2020']/df['poblacion']*100000\n",
    "df = df.drop('Covid_Deaths_2020', axis = 1)\n",
    "df = df.drop('poblacion', axis = 1)"
   ]
  },
  {
   "cell_type": "markdown",
   "metadata": {},
   "source": [
    "### Extraemos los países."
   ]
  },
  {
   "cell_type": "markdown",
   "metadata": {},
   "source": [
    "Recogemos el país de cada fila en una categoría (la Y de toda la vida) para asignarsela más tarde. No sobreescribimos el dataframe anterior."
   ]
  },
  {
   "cell_type": "code",
   "execution_count": 9,
   "metadata": {},
   "outputs": [],
   "source": [
    "Y_paises = df['Country']\n",
    "df_features = df.drop('Country', axis = 1)"
   ]
  },
  {
   "cell_type": "markdown",
   "metadata": {},
   "source": [
    "### Normalizamos."
   ]
  },
  {
   "cell_type": "markdown",
   "metadata": {},
   "source": [
    "Normalizamos los datos para trabajar sobre el mismo espacio y darle el mismo valor a cada atributo."
   ]
  },
  {
   "cell_type": "code",
   "execution_count": 10,
   "metadata": {},
   "outputs": [],
   "source": [
    "df_numpy = df_features.values #devuelve un numpy array\n",
    "min_max_scaler = preprocessing.MinMaxScaler()\n",
    "df_numpy_escalado = min_max_scaler.fit_transform(df_numpy)\n",
    "df_normalized = pd.DataFrame(df_numpy_escalado, columns = [\"pib_per_capita\",\"covid_ratio_deaths\"])"
   ]
  },
  {
   "cell_type": "markdown",
   "metadata": {},
   "source": [
    "Visualizamos el formato final de los datos:"
   ]
  },
  {
   "cell_type": "code",
   "execution_count": 11,
   "metadata": {},
   "outputs": [
    {
     "data": {
      "text/html": [
       "<div>\n",
       "<style scoped>\n",
       "    .dataframe tbody tr th:only-of-type {\n",
       "        vertical-align: middle;\n",
       "    }\n",
       "\n",
       "    .dataframe tbody tr th {\n",
       "        vertical-align: top;\n",
       "    }\n",
       "\n",
       "    .dataframe thead th {\n",
       "        text-align: right;\n",
       "    }\n",
       "</style>\n",
       "<table border=\"1\" class=\"dataframe\">\n",
       "  <thead>\n",
       "    <tr style=\"text-align: right;\">\n",
       "      <th></th>\n",
       "      <th>pib_per_capita</th>\n",
       "      <th>covid_ratio_deaths</th>\n",
       "    </tr>\n",
       "  </thead>\n",
       "  <tbody>\n",
       "    <tr>\n",
       "      <th>0</th>\n",
       "      <td>0.211964</td>\n",
       "      <td>0.751282</td>\n",
       "    </tr>\n",
       "    <tr>\n",
       "      <th>1</th>\n",
       "      <td>0.132181</td>\n",
       "      <td>0.717562</td>\n",
       "    </tr>\n",
       "    <tr>\n",
       "      <th>2</th>\n",
       "      <td>0.449548</td>\n",
       "      <td>0.001462</td>\n",
       "    </tr>\n",
       "    <tr>\n",
       "      <th>3</th>\n",
       "      <td>0.731677</td>\n",
       "      <td>0.325074</td>\n",
       "    </tr>\n",
       "    <tr>\n",
       "      <th>4</th>\n",
       "      <td>0.071782</td>\n",
       "      <td>0.675654</td>\n",
       "    </tr>\n",
       "  </tbody>\n",
       "</table>\n",
       "</div>"
      ],
      "text/plain": [
       "   pib_per_capita  covid_ratio_deaths\n",
       "0        0.211964            0.751282\n",
       "1        0.132181            0.717562\n",
       "2        0.449548            0.001462\n",
       "3        0.731677            0.325074\n",
       "4        0.071782            0.675654"
      ]
     },
     "metadata": {},
     "output_type": "display_data"
    }
   ],
   "source": [
    "display(df_normalized.head(5))"
   ]
  },
  {
   "cell_type": "markdown",
   "metadata": {},
   "source": [
    "## Selección del mejor linkage para la clusterización"
   ]
  },
  {
   "cell_type": "markdown",
   "metadata": {},
   "source": [
    "Para hacer un buen clustering jerárquico, se debe de evaluar qué método de linkage se desea emplear, haciendo un estudio y comparando los distintos métodos.\n",
    "\n",
    "Un filtro previo que se puede aplicar es el del coeficiente de Cophenet para los distintos linkages y elegir el mejor valor. Este coeficiente nos permite visualizar la correlación de los datos. Si el valor es cercano a 1, indica que la distancia entre objetos combinados por el claster es mínima y por tanto se trataría de una clusterización \"perfecta\". Cuanto más cercana a 0 el clustering generado será peor ya que los datos son muy dispersos en el sentido de que la distancia entre distintos puntos es la misma para todos los puntos del espacio de datos.\n",
    "\n",
    "Podemos ver todos los métodos disponibles a continuación y escoger el que mejor coeficiente de Cophenet nos de."
   ]
  },
  {
   "cell_type": "code",
   "execution_count": 12,
   "metadata": {},
   "outputs": [
    {
     "data": {
      "text/plain": [
       "'Single: 0.8873640587739234'"
      ]
     },
     "metadata": {},
     "output_type": "display_data"
    },
    {
     "data": {
      "text/plain": [
       "'Ward: 0.8348422968534717'"
      ]
     },
     "metadata": {},
     "output_type": "display_data"
    },
    {
     "data": {
      "text/plain": [
       "'Average: 0.8932952813361329'"
      ]
     },
     "metadata": {},
     "output_type": "display_data"
    },
    {
     "data": {
      "text/plain": [
       "'Complete: 0.8739070547754889'"
      ]
     },
     "metadata": {},
     "output_type": "display_data"
    },
    {
     "data": {
      "text/plain": [
       "'Weighted: 0.8872900056725417'"
      ]
     },
     "metadata": {},
     "output_type": "display_data"
    },
    {
     "data": {
      "text/plain": [
       "'Centroid: 0.8910914631870668'"
      ]
     },
     "metadata": {},
     "output_type": "display_data"
    },
    {
     "data": {
      "text/plain": [
       "'Median: 0.8863350053472068'"
      ]
     },
     "metadata": {},
     "output_type": "display_data"
    }
   ],
   "source": [
    "#Single\n",
    "Z = linkage(df_normalized, 'single')\n",
    "c, coph_dists = cophenet(Z, pdist(df_normalized))\n",
    "display(\"Single: \" + str(c))\n",
    "\n",
    "#Ward\n",
    "Z = linkage(df_normalized, 'ward')\n",
    "c, coph_dists = cophenet(Z, pdist(df_normalized))\n",
    "display(\"Ward: \" + str(c))\n",
    "\n",
    "#Average\n",
    "Z = linkage(df_normalized, 'average')\n",
    "c, coph_dists = cophenet(Z, pdist(df_normalized))\n",
    "display(\"Average: \" + str(c))\n",
    "\n",
    "#Complete\n",
    "Z = linkage(df_normalized, 'complete')\n",
    "c, coph_dists = cophenet(Z, pdist(df_normalized))\n",
    "display(\"Complete: \" + str(c))\n",
    "\n",
    "#Weighted\n",
    "Z = linkage(df_normalized, 'weighted')\n",
    "c, coph_dists = cophenet(Z, pdist(df_normalized))\n",
    "display(\"Weighted: \" + str(c))\n",
    "\n",
    "#Centroid\n",
    "Z = linkage(df_normalized, 'centroid')\n",
    "c, coph_dists = cophenet(Z, pdist(df_normalized))\n",
    "display(\"Centroid: \" + str(c))\n",
    "\n",
    "#Median\n",
    "Z = linkage(df_normalized, 'median')\n",
    "c, coph_dists = cophenet(Z, pdist(df_normalized))\n",
    "display(\"Median: \" + str(c))"
   ]
  },
  {
   "cell_type": "markdown",
   "metadata": {},
   "source": [
    "Podemos observar que el mejor valor viene dado por el linkage \"Average\" con un valor de 0.89. Procederemos a usar este método de linkage para la clusterización."
   ]
  },
  {
   "cell_type": "markdown",
   "metadata": {},
   "source": [
    "## Creación del clustering jerárquico con el mejor linkage"
   ]
  },
  {
   "cell_type": "markdown",
   "metadata": {},
   "source": [
    "Empleamos el linkage \"Average\" y generamos el clustering jerárquico."
   ]
  },
  {
   "cell_type": "code",
   "execution_count": 13,
   "metadata": {},
   "outputs": [
    {
     "data": {
      "text/plain": [
       "'Average: 0.8932952813361329'"
      ]
     },
     "metadata": {},
     "output_type": "display_data"
    }
   ],
   "source": [
    "#Average\n",
    "#Guardamos el clustering en la variable Z.\n",
    "Z = linkage(df_normalized, 'average')\n",
    "c, coph_dists = cophenet(Z, pdist(df_normalized))\n",
    "display(\"Average: \" + str(c))"
   ]
  },
  {
   "cell_type": "markdown",
   "metadata": {},
   "source": [
    "## Elección del mejor k (clases generadas)"
   ]
  },
  {
   "cell_type": "markdown",
   "metadata": {},
   "source": [
    "Para elegir el mejor k, miramos el error asociado a cada cluster, este error puede verse también en el dendograma representado en el apartado de representación gráfica de este entregable.\n",
    "\n",
    "Cuando el error se estabilice, podremos elegir el número de clusters.\n",
    "\n",
    "También debemos tener en cuenta, el interés del problema, ya que para la agrupación de países, quizás tener un número muy elevado no nos aporte mucho.\n",
    "\n",
    "Nuestro objetivo es saber si el tipo de sanidad influye en relación al PIB y al ratio de muertes por covid por 100.000 habitantes, al existir solamente dos tipos de sanidad (pública o privada), quizás sea conveniente elegir un k=2 (independientemente del error) para ver si los países con un tipo de sanidad igual son agrupados dentro del mismo cluster.  "
   ]
  },
  {
   "cell_type": "code",
   "execution_count": 14,
   "metadata": {},
   "outputs": [],
   "source": [
    "x = []     # X representa un vector donde se almacenan el número de clases correspondientes al error evaluado en Y.  \n",
    "y = []     # Y representa un vector que almacena el error del clustering jerárquico, con linkage \"Average\" generado en el aprtado anterior. \n",
    "\n",
    "for i in range(19):\n",
    "    y.append(Z[-(i+1)][2])\n",
    "    x.append(i+1)"
   ]
  },
  {
   "cell_type": "markdown",
   "metadata": {},
   "source": [
    "Visualizamos el error del clustering en relación al número de clases generadas."
   ]
  },
  {
   "cell_type": "code",
   "execution_count": 15,
   "metadata": {},
   "outputs": [
    {
     "data": {
      "image/png": "[encoded data removed]",
      "text/plain": [
       "<Figure size 720x360 with 1 Axes>"
      ]
     },
     "metadata": {
      "needs_background": "light"
     },
     "output_type": "display_data"
    }
   ],
   "source": [
    "plt.subplots(figsize=(10, 5))\n",
    "plt.title('Número óptimo de clases')\n",
    "plt.xlabel('k (clases)')\n",
    "plt.ylabel('Error')\n",
    "plt.plot(x, y, '-o')\n",
    "plt.xticks(np.arange(0, 20, step=1))\n",
    "plt.show()"
   ]
  },
  {
   "cell_type": "markdown",
   "metadata": {},
   "source": [
    "Podemos observar que el error se estabiliza a partir de 5 clases (Error = 0.34).\n",
    "\n",
    "Esto nos da lugar a 5 clases diferenciadas, el objetivo sería mirar si en una clase predominan los países con sanidad de algún tipo y así poder clasificarlos. Sin embargo, si observamos el número de individuos por clase en el dendograma podemos ver que hay 3 clases con dos países o menos, lo cual nos da lugar a varias situaciones \"peculiares\" que deben ser estudiadas.\n",
    "\n",
    "Hemos descartado coger únicamente 2 clases ya que el error era muy elevado y el número de países por clase no estaba bien distribuido. \n",
    "\n",
    "Escogeremos 5 clases para obtener los resultados y conclusiones."
   ]
  },
  {
   "cell_type": "markdown",
   "metadata": {},
   "source": [
    "## Representación gráfica"
   ]
  },
  {
   "cell_type": "markdown",
   "metadata": {},
   "source": [
    "### Dendograma"
   ]
  },
  {
   "cell_type": "code",
   "execution_count": 16,
   "metadata": {},
   "outputs": [
    {
     "data": {
      "image/png": "[encoded data removed]",
      "text/plain": [
       "<Figure size 720x504 with 1 Axes>"
      ]
     },
     "metadata": {
      "needs_background": "light"
     },
     "output_type": "display_data"
    }
   ],
   "source": [
    "#Dibujo del dendograma de los 20 países.\n",
    "import scipy.cluster.hierarchy as shc\n",
    "\n",
    "plt.figure(figsize=(10, 7))\n",
    "plt.title(\"Country Dendogram\")\n",
    "\n",
    "#####horizontal line\n",
    "xs = np.linspace(1,2100,20)\n",
    "horiz_line_data = np.array([0.36 for i in range(len(xs))])\n",
    "plt.plot(xs, horiz_line_data, 'r--') \n",
    "\n",
    "#Dendograma\n",
    "dend = shc.dendrogram(shc.linkage(df_normalized, method='average'), labels = Y_paises.values, leaf_rotation = 90)"
   ]
  },
  {
   "cell_type": "markdown",
   "metadata": {},
   "source": [
    "Las lineas verdes azules y rojas representan los distintos clusterings.\n",
    "\n",
    "La linea roja discontinua representa el k óptimo que hemos escogido. \n",
    "\n",
    "Las clases se representan en las intersecciones de las lineas verticales con la línea horizontal roja discontinua, nombradas de izquierda a derecha con números ascendentes, empezando por el 1 y acabando en 5."
   ]
  },
  {
   "cell_type": "markdown",
   "metadata": {},
   "source": [
    "### Interpretación del dendograma"
   ]
  },
  {
   "cell_type": "markdown",
   "metadata": {},
   "source": [
    "Podemos observar tres aspectos claves únicamente con la división y representación del dendograma:\n",
    "\n",
    "- Nicaragua es muy diferente a todos los demás países, y es por eso por lo que el clustering lo agrupa como una clase separada. De la misma forma ocurre con Singapore y con Suecia y Estados Unidos.\n",
    "\n",
    "- Las clases 3 y 5 se encuentran equilibradas en relación a la cantidad de países existentes en cada cluster.\n",
    "\n",
    "- Haber elegido un k = 5 nos permite comparar entre las clases 3 y 5 y separar las clases 1,2 y 4 como casos particulares, habiendo sido una decisión acertada. "
   ]
  },
  {
   "cell_type": "markdown",
   "metadata": {},
   "source": [
    "## Análisis de las clases"
   ]
  },
  {
   "cell_type": "markdown",
   "metadata": {},
   "source": [
    "Para llegara  nuestro objetivo, podemos comprobar el porcentaje de países de cada clase con sanidad pública vs privada.\n",
    "\n",
    "Alternativamente, si calculamos la media entre todos los países de la misma clase, obtendremos los valores medios de PIB y ratio de muertes, obteniendo el país \"promedio\" que correspondería a dicha clase."
   ]
  },
  {
   "cell_type": "code",
   "execution_count": 17,
   "metadata": {},
   "outputs": [],
   "source": [
    "#Cálculo de clase promedio y asignación de cada clase.\n",
    "\n",
    "#Guardamos los labels de cada país.\n",
    "cluster = AgglomerativeClustering(n_clusters=5, affinity='euclidean', linkage='average')\n",
    "cluster.fit_predict(df_normalized)\n",
    "labels = cluster.labels_\n",
    "\n",
    "#Reasignamos el número de cada clase para que concuerde con el dendograma superior.\n",
    "labels = np.where(labels==0, 5, labels)\n",
    "labels = np.where(labels==1, 0, labels)\n",
    "labels = np.where(labels==3, 1, labels)\n",
    "labels = np.where(labels==0, 3, labels)\n",
    "labels = np.where(labels==2, 0, labels)\n",
    "labels = np.where(labels==4, 2, labels)\n",
    "labels = np.where(labels==0, 4, labels)\n",
    "\n",
    "#Creamos los países promedios\n",
    "paisesPromedios = []\n",
    "\n",
    "df_features.insert(0, 'Clase', labels)\n",
    "df.insert(0, 'Clase', labels)\n",
    "\n",
    "for i in range(1,6):\n",
    "    #Esta sentencia hace la media de todos los países del tipo i, obteniendo el país \"promedio\", con los valores brutos (sin normalizar).\n",
    "    paisesPromedios.append(df_features[df_features['Clase']==(i)].sum()/len(df_features[df_features['Clase']==(i)]))\n",
    "\n",
    "#Lo convertimos a un dataframe y lo mostramos por pantalla.\n",
    "paisesPromedios = pd.DataFrame(paisesPromedios)"
   ]
  },
  {
   "cell_type": "markdown",
   "metadata": {},
   "source": [
    "Las clases corresponden a los siguientes países (para una mejor visualización):"
   ]
  },
  {
   "cell_type": "code",
   "execution_count": 18,
   "metadata": {},
   "outputs": [
    {
     "name": "stdout",
     "output_type": "stream",
     "text": [
      "Cluster 1\n",
      " - Sweden\n",
      " - United States of America\n",
      "Cluster 2\n",
      " - Singapore\n",
      "Cluster 3\n",
      " - Brunei Darussalam\n",
      " - Canada\n",
      " - Finland\n",
      " - Germany\n",
      " - Israel\n",
      " - Japan\n",
      " - Kuwait\n",
      "Cluster 4\n",
      " - Nicaragua\n",
      "Cluster 5\n",
      " - Argentina\n",
      " - Brazil\n",
      " - Colombia\n",
      " - Croatia\n",
      " - Ecuador\n",
      " - Hungary\n",
      " - Mexico\n",
      " - Slovenia\n",
      " - Spain\n"
     ]
    }
   ],
   "source": [
    "#Las clases corresponden a los siguientes países (para una mejor visualización).\n",
    "for cluster in range(1,6):\n",
    "    country_names = df[df['Clase'] == cluster]['Country'].values\n",
    "    \n",
    "    print('Cluster ' + str(cluster))\n",
    "    for country in country_names:\n",
    "        print(' - ' + country)"
   ]
  },
  {
   "cell_type": "markdown",
   "metadata": {},
   "source": [
    "### Características de cada clase"
   ]
  },
  {
   "cell_type": "markdown",
   "metadata": {},
   "source": [
    "Visualizamos el país promedio para cada clase:"
   ]
  },
  {
   "cell_type": "code",
   "execution_count": 19,
   "metadata": {},
   "outputs": [
    {
     "data": {
      "text/html": [
       "<div>\n",
       "<style scoped>\n",
       "    .dataframe tbody tr th:only-of-type {\n",
       "        vertical-align: middle;\n",
       "    }\n",
       "\n",
       "    .dataframe tbody tr th {\n",
       "        vertical-align: top;\n",
       "    }\n",
       "\n",
       "    .dataframe thead th {\n",
       "        text-align: right;\n",
       "    }\n",
       "</style>\n",
       "<table border=\"1\" class=\"dataframe\">\n",
       "  <thead>\n",
       "    <tr style=\"text-align: right;\">\n",
       "      <th></th>\n",
       "      <th>Clase</th>\n",
       "      <th>pib_per_capita</th>\n",
       "      <th>covid_ratio_deaths</th>\n",
       "    </tr>\n",
       "  </thead>\n",
       "  <tbody>\n",
       "    <tr>\n",
       "      <th>0</th>\n",
       "      <td>1.0</td>\n",
       "      <td>56926.865522</td>\n",
       "      <td>96.577354</td>\n",
       "    </tr>\n",
       "    <tr>\n",
       "      <th>1</th>\n",
       "      <td>2.0</td>\n",
       "      <td>60913.745333</td>\n",
       "      <td>0.516727</td>\n",
       "    </tr>\n",
       "    <tr>\n",
       "      <th>2</th>\n",
       "      <td>3.0</td>\n",
       "      <td>39042.570262</td>\n",
       "      <td>22.618968</td>\n",
       "    </tr>\n",
       "    <tr>\n",
       "      <th>3</th>\n",
       "      <td>4.0</td>\n",
       "      <td>2159.157868</td>\n",
       "      <td>2.584240</td>\n",
       "    </tr>\n",
       "    <tr>\n",
       "      <th>4</th>\n",
       "      <td>5.0</td>\n",
       "      <td>14017.438913</td>\n",
       "      <td>99.652605</td>\n",
       "    </tr>\n",
       "  </tbody>\n",
       "</table>\n",
       "</div>"
      ],
      "text/plain": [
       "   Clase  pib_per_capita  covid_ratio_deaths\n",
       "0    1.0    56926.865522           96.577354\n",
       "1    2.0    60913.745333            0.516727\n",
       "2    3.0    39042.570262           22.618968\n",
       "3    4.0     2159.157868            2.584240\n",
       "4    5.0    14017.438913           99.652605"
      ]
     },
     "execution_count": 19,
     "metadata": {},
     "output_type": "execute_result"
    }
   ],
   "source": [
    "paisesPromedios"
   ]
  },
  {
   "cell_type": "markdown",
   "metadata": {},
   "source": [
    "### Comparación con el tipo de sanidad"
   ]
  },
  {
   "cell_type": "markdown",
   "metadata": {},
   "source": [
    "Podemos ver un resumen de a qué clase pertenece cada país, y qué tipo de sanidad posee (Pública (1) o privada (0))."
   ]
  },
  {
   "cell_type": "code",
   "execution_count": 20,
   "metadata": {},
   "outputs": [
    {
     "data": {
      "text/html": [
       "<div>\n",
       "<style scoped>\n",
       "    .dataframe tbody tr th:only-of-type {\n",
       "        vertical-align: middle;\n",
       "    }\n",
       "\n",
       "    .dataframe tbody tr th {\n",
       "        vertical-align: top;\n",
       "    }\n",
       "\n",
       "    .dataframe thead th {\n",
       "        text-align: right;\n",
       "    }\n",
       "</style>\n",
       "<table border=\"1\" class=\"dataframe\">\n",
       "  <thead>\n",
       "    <tr style=\"text-align: right;\">\n",
       "      <th></th>\n",
       "      <th>Clase</th>\n",
       "      <th>Country</th>\n",
       "      <th>pib_per_capita</th>\n",
       "      <th>covid_ratio_deaths</th>\n",
       "      <th>Sanidad</th>\n",
       "    </tr>\n",
       "  </thead>\n",
       "  <tbody>\n",
       "    <tr>\n",
       "      <th>0</th>\n",
       "      <td>5</td>\n",
       "      <td>Argentina</td>\n",
       "      <td>14613.041825</td>\n",
       "      <td>98.184097</td>\n",
       "      <td>0</td>\n",
       "    </tr>\n",
       "    <tr>\n",
       "      <th>1</th>\n",
       "      <td>5</td>\n",
       "      <td>Brazil</td>\n",
       "      <td>9925.386238</td>\n",
       "      <td>93.800417</td>\n",
       "      <td>0</td>\n",
       "    </tr>\n",
       "    <tr>\n",
       "      <th>2</th>\n",
       "      <td>3</td>\n",
       "      <td>Brunei Darussalam</td>\n",
       "      <td>28572.146778</td>\n",
       "      <td>0.706759</td>\n",
       "      <td>1</td>\n",
       "    </tr>\n",
       "    <tr>\n",
       "      <th>3</th>\n",
       "      <td>3</td>\n",
       "      <td>Canada</td>\n",
       "      <td>45148.552706</td>\n",
       "      <td>42.776627</td>\n",
       "      <td>1</td>\n",
       "    </tr>\n",
       "    <tr>\n",
       "      <th>4</th>\n",
       "      <td>5</td>\n",
       "      <td>Colombia</td>\n",
       "      <td>6376.706716</td>\n",
       "      <td>88.352357</td>\n",
       "      <td>0</td>\n",
       "    </tr>\n",
       "    <tr>\n",
       "      <th>5</th>\n",
       "      <td>5</td>\n",
       "      <td>Croatia</td>\n",
       "      <td>13451.624948</td>\n",
       "      <td>95.041109</td>\n",
       "      <td>0</td>\n",
       "    </tr>\n",
       "    <tr>\n",
       "      <th>6</th>\n",
       "      <td>5</td>\n",
       "      <td>Ecuador</td>\n",
       "      <td>6213.501276</td>\n",
       "      <td>83.608568</td>\n",
       "      <td>0</td>\n",
       "    </tr>\n",
       "    <tr>\n",
       "      <th>7</th>\n",
       "      <td>3</td>\n",
       "      <td>Finland</td>\n",
       "      <td>46336.663253</td>\n",
       "      <td>10.184789</td>\n",
       "      <td>1</td>\n",
       "    </tr>\n",
       "    <tr>\n",
       "      <th>8</th>\n",
       "      <td>3</td>\n",
       "      <td>Germany</td>\n",
       "      <td>44552.819372</td>\n",
       "      <td>40.880989</td>\n",
       "      <td>1</td>\n",
       "    </tr>\n",
       "    <tr>\n",
       "      <th>9</th>\n",
       "      <td>5</td>\n",
       "      <td>Hungary</td>\n",
       "      <td>14605.854345</td>\n",
       "      <td>97.435974</td>\n",
       "      <td>0</td>\n",
       "    </tr>\n",
       "    <tr>\n",
       "      <th>10</th>\n",
       "      <td>3</td>\n",
       "      <td>Israel</td>\n",
       "      <td>40541.862094</td>\n",
       "      <td>38.160054</td>\n",
       "      <td>1</td>\n",
       "    </tr>\n",
       "    <tr>\n",
       "      <th>11</th>\n",
       "      <td>3</td>\n",
       "      <td>Japan</td>\n",
       "      <td>38386.511146</td>\n",
       "      <td>2.596505</td>\n",
       "      <td>1</td>\n",
       "    </tr>\n",
       "    <tr>\n",
       "      <th>12</th>\n",
       "      <td>3</td>\n",
       "      <td>Kuwait</td>\n",
       "      <td>29759.436487</td>\n",
       "      <td>23.027051</td>\n",
       "      <td>1</td>\n",
       "    </tr>\n",
       "    <tr>\n",
       "      <th>13</th>\n",
       "      <td>5</td>\n",
       "      <td>Mexico</td>\n",
       "      <td>9287.849736</td>\n",
       "      <td>100.825211</td>\n",
       "      <td>0</td>\n",
       "    </tr>\n",
       "    <tr>\n",
       "      <th>14</th>\n",
       "      <td>4</td>\n",
       "      <td>Nicaragua</td>\n",
       "      <td>2159.157868</td>\n",
       "      <td>2.584240</td>\n",
       "      <td>0</td>\n",
       "    </tr>\n",
       "    <tr>\n",
       "      <th>15</th>\n",
       "      <td>2</td>\n",
       "      <td>Singapore</td>\n",
       "      <td>60913.745333</td>\n",
       "      <td>0.516727</td>\n",
       "      <td>1</td>\n",
       "    </tr>\n",
       "    <tr>\n",
       "      <th>16</th>\n",
       "      <td>5</td>\n",
       "      <td>Slovenia</td>\n",
       "      <td>23512.817267</td>\n",
       "      <td>130.517599</td>\n",
       "      <td>1</td>\n",
       "    </tr>\n",
       "    <tr>\n",
       "      <th>17</th>\n",
       "      <td>5</td>\n",
       "      <td>Spain</td>\n",
       "      <td>28170.167864</td>\n",
       "      <td>109.108112</td>\n",
       "      <td>1</td>\n",
       "    </tr>\n",
       "    <tr>\n",
       "      <th>18</th>\n",
       "      <td>1</td>\n",
       "      <td>Sweden</td>\n",
       "      <td>53791.508730</td>\n",
       "      <td>86.769358</td>\n",
       "      <td>1</td>\n",
       "    </tr>\n",
       "    <tr>\n",
       "      <th>19</th>\n",
       "      <td>1</td>\n",
       "      <td>United States of America</td>\n",
       "      <td>60062.222313</td>\n",
       "      <td>106.385349</td>\n",
       "      <td>0</td>\n",
       "    </tr>\n",
       "  </tbody>\n",
       "</table>\n",
       "</div>"
      ],
      "text/plain": [
       "    Clase                   Country  pib_per_capita  covid_ratio_deaths  \\\n",
       "0       5                 Argentina    14613.041825           98.184097   \n",
       "1       5                    Brazil     9925.386238           93.800417   \n",
       "2       3         Brunei Darussalam    28572.146778            0.706759   \n",
       "3       3                    Canada    45148.552706           42.776627   \n",
       "4       5                  Colombia     6376.706716           88.352357   \n",
       "5       5                   Croatia    13451.624948           95.041109   \n",
       "6       5                   Ecuador     6213.501276           83.608568   \n",
       "7       3                   Finland    46336.663253           10.184789   \n",
       "8       3                   Germany    44552.819372           40.880989   \n",
       "9       5                   Hungary    14605.854345           97.435974   \n",
       "10      3                    Israel    40541.862094           38.160054   \n",
       "11      3                     Japan    38386.511146            2.596505   \n",
       "12      3                    Kuwait    29759.436487           23.027051   \n",
       "13      5                    Mexico     9287.849736          100.825211   \n",
       "14      4                 Nicaragua     2159.157868            2.584240   \n",
       "15      2                 Singapore    60913.745333            0.516727   \n",
       "16      5                  Slovenia    23512.817267          130.517599   \n",
       "17      5                     Spain    28170.167864          109.108112   \n",
       "18      1                    Sweden    53791.508730           86.769358   \n",
       "19      1  United States of America    60062.222313          106.385349   \n",
       "\n",
       "    Sanidad  \n",
       "0         0  \n",
       "1         0  \n",
       "2         1  \n",
       "3         1  \n",
       "4         0  \n",
       "5         0  \n",
       "6         0  \n",
       "7         1  \n",
       "8         1  \n",
       "9         0  \n",
       "10        1  \n",
       "11        1  \n",
       "12        1  \n",
       "13        0  \n",
       "14        0  \n",
       "15        1  \n",
       "16        1  \n",
       "17        1  \n",
       "18        1  \n",
       "19        0  "
      ]
     },
     "execution_count": 20,
     "metadata": {},
     "output_type": "execute_result"
    }
   ],
   "source": [
    "#Juntamos df con df_Sanidad\n",
    "df['Sanidad'] = df_sanidad['Sanidad'].values\n",
    "df['Country'] = Y_paises.values\n",
    "df.head(20)"
   ]
  },
  {
   "cell_type": "markdown",
   "metadata": {},
   "source": [
    "Podemos visualizar estos datos agrupados por clases, con la media del PIB per capita, del ratio de muertes por covid y además, una gráfica con el porcentaje de sanidad pública de cada país."
   ]
  },
  {
   "cell_type": "code",
   "execution_count": 21,
   "metadata": {},
   "outputs": [
    {
     "data": {
      "text/html": [
       "<div>\n",
       "<style scoped>\n",
       "    .dataframe tbody tr th:only-of-type {\n",
       "        vertical-align: middle;\n",
       "    }\n",
       "\n",
       "    .dataframe tbody tr th {\n",
       "        vertical-align: top;\n",
       "    }\n",
       "\n",
       "    .dataframe thead th {\n",
       "        text-align: right;\n",
       "    }\n",
       "</style>\n",
       "<table border=\"1\" class=\"dataframe\">\n",
       "  <thead>\n",
       "    <tr style=\"text-align: right;\">\n",
       "      <th></th>\n",
       "      <th>Clase</th>\n",
       "      <th>pib_per_capita</th>\n",
       "      <th>covid_ratio_deaths</th>\n",
       "      <th>Porcentaje_Sanidad_Publica</th>\n",
       "      <th>Porcentaje_Sanidad_Privada</th>\n",
       "      <th>Num_Paises</th>\n",
       "    </tr>\n",
       "  </thead>\n",
       "  <tbody>\n",
       "    <tr>\n",
       "      <th>0</th>\n",
       "      <td>1.0</td>\n",
       "      <td>56926.865522</td>\n",
       "      <td>96.577354</td>\n",
       "      <td>0.500000</td>\n",
       "      <td>0.500000</td>\n",
       "      <td>2</td>\n",
       "    </tr>\n",
       "    <tr>\n",
       "      <th>1</th>\n",
       "      <td>2.0</td>\n",
       "      <td>60913.745333</td>\n",
       "      <td>0.516727</td>\n",
       "      <td>1.000000</td>\n",
       "      <td>0.000000</td>\n",
       "      <td>1</td>\n",
       "    </tr>\n",
       "    <tr>\n",
       "      <th>2</th>\n",
       "      <td>3.0</td>\n",
       "      <td>39042.570262</td>\n",
       "      <td>22.618968</td>\n",
       "      <td>1.000000</td>\n",
       "      <td>0.000000</td>\n",
       "      <td>7</td>\n",
       "    </tr>\n",
       "    <tr>\n",
       "      <th>3</th>\n",
       "      <td>4.0</td>\n",
       "      <td>2159.157868</td>\n",
       "      <td>2.584240</td>\n",
       "      <td>0.000000</td>\n",
       "      <td>1.000000</td>\n",
       "      <td>1</td>\n",
       "    </tr>\n",
       "    <tr>\n",
       "      <th>4</th>\n",
       "      <td>5.0</td>\n",
       "      <td>14017.438913</td>\n",
       "      <td>99.652605</td>\n",
       "      <td>0.222222</td>\n",
       "      <td>0.777778</td>\n",
       "      <td>9</td>\n",
       "    </tr>\n",
       "  </tbody>\n",
       "</table>\n",
       "</div>"
      ],
      "text/plain": [
       "   Clase  pib_per_capita  covid_ratio_deaths  Porcentaje_Sanidad_Publica  \\\n",
       "0    1.0    56926.865522           96.577354                    0.500000   \n",
       "1    2.0    60913.745333            0.516727                    1.000000   \n",
       "2    3.0    39042.570262           22.618968                    1.000000   \n",
       "3    4.0     2159.157868            2.584240                    0.000000   \n",
       "4    5.0    14017.438913           99.652605                    0.222222   \n",
       "\n",
       "   Porcentaje_Sanidad_Privada  Num_Paises  \n",
       "0                    0.500000           2  \n",
       "1                    0.000000           1  \n",
       "2                    0.000000           7  \n",
       "3                    1.000000           1  \n",
       "4                    0.777778           9  "
      ]
     },
     "metadata": {},
     "output_type": "display_data"
    },
    {
     "data": {
      "image/png": "[encoded data removed]",
      "text/plain": [
       "<Figure size 1080x540 with 1 Axes>"
      ]
     },
     "metadata": {
      "needs_background": "light"
     },
     "output_type": "display_data"
    }
   ],
   "source": [
    "#Vemos que porcentaje de sanidad pública y privada pertenece a cada clase.\n",
    "paisesPromedios['Porcentaje_Sanidad_Publica'] = df.groupby('Clase').mean()['Sanidad'].reset_index(drop=True)\n",
    "paisesPromedios['Porcentaje_Sanidad_Privada'] = (1 - df.groupby('Clase').mean()['Sanidad']).reset_index(drop=True)\n",
    "paisesPromedios['Num_Paises'] = df.groupby(['Clase']).size().reset_index(drop=True)\n",
    "display(paisesPromedios)\n",
    "\n",
    "#Plot para visualizar el tipo de sanidad Pública\n",
    "plt.figure(figsize=(15, 7.5))\n",
    "ax = plt.subplot(111)\n",
    "ax.bar([0.9,1.9,2.9,3.9,4.9], paisesPromedios['Porcentaje_Sanidad_Publica']+0.03, width=0.2, color='#97cc25', align='center')\n",
    "ax.bar([1.1,2.1,3.1,4.1,5.1], paisesPromedios['Porcentaje_Sanidad_Privada']+0.03, width=0.2, color='#cc1302', align='center')\n",
    "plt.xlabel(\"Nº Cluster\")\n",
    "plt.ylabel(\"Porcentaje (%)\")\n",
    "plt.legend([\"Sanidad Pública\",\"Sanidad privada\"])\n",
    "plt.show()"
   ]
  },
  {
   "cell_type": "markdown",
   "metadata": {},
   "source": [
    "### Análisis "
   ]
  },
  {
   "cell_type": "markdown",
   "metadata": {},
   "source": [
    "Tras observar todos estos datos, llegamos a las siguientes conclusiones con respecto a cada clase: \n",
    "\n",
    "- La clase 1 pertenece a los países de Estados Unidos y Suecia, esta agrupación viene dada ya que su PIB per cápita es muy elevado y de la misma forma sucede con las muertes por covid, siendo muy altos en ambos casos. Con respecto a la sanidad no se puede decir nada, ya que ambos países son fuertes potencias y cada uno posee un tipo de sanidad distinto.\n",
    "\n",
    "- La clase 2 agrupa únicamente a Singapore, esto es debido a que su tasa de mortalidad por covid es incrieblemente baja, además de tener un PIB per cápita también elevado. Singapore es actualmente el lugar con menor tasa de mortalidad por contagios de covid en todo el mundo con un 0.05% de fallecimiento, mientras que la tasa de fallecimiento media de todo el mundo ronda el 3%.\n",
    "\n",
    "- La clase 3 agrupa a 7 países distintos, países con un PIB per cápita alto y una tasa de muertes por covid baja. Lo curioso de esta agrupación es que el 100% de todos estos países poseen sanidad pública, lo que nos lleva a plantearnos si tener un PIB per cápita elevado y sanidad pública implica tener una menor tasa de muertes en covid.\n",
    "\n",
    "- La clase 4 únicamente presenta a Nicaragua ya que presenta un PIB per cápita muy bajo (Nicaragua es un país en vías de desarrollo), una tasa de mortalidad muy baja y no posee sanidad pública. Extrayendo información acerca de Nicaragua hemos descubierto que tiene muy pocos contagios, y que el covid ha llegado con retraso a este país, la tasa de mortalidad de Nicaragua es de entorno al 2.7%.\n",
    "\n",
    "- La clase 5 agrupa a 9 países distintos, con valores bajos de PIB per cápita y un gran ratio de muertes por covid. Curiosamente, y corroborando la información obtenida de la clase 3, en este grupo un 78% de los países poseen sanidad privada frente al otro 22% de países que presentan sanidad pública, planteándonos nuevamente si tener un PIB per cápita bajo y sanidad privada provoca una tasa de muertes por covid superior. "
   ]
  }
 ],
 "metadata": {
  "kernelspec": {
   "display_name": "Python 3",
   "language": "python",
   "name": "python3"
  },
  "language_info": {
   "codemirror_mode": {
    "name": "ipython",
    "version": 3
   },
   "file_extension": ".py",
   "mimetype": "text/x-python",
   "name": "python",
   "nbconvert_exporter": "python",
   "pygments_lexer": "ipython3",
   "version": "3.7.9"
  }
 },
 "nbformat": 4,
 "nbformat_minor": 2
}
